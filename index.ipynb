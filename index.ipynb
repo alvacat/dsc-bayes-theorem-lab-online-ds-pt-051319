{
 "cells": [
  {
   "cell_type": "markdown",
   "metadata": {},
   "source": [
    "# Bayes' Theorem - Lab\n",
    "\n",
    "## Introduction\n",
    "\n",
    "In this lab, you'll practice Bayes' Theorem in some simple word problems. \n",
    "\n",
    "## Objectives\n",
    "* Understand and describe the Bayesian theorem from conditional probabilities\n",
    "* Understand and perform simple applications of Bayes Theorem for sensitivity and specificity"
   ]
  },
  {
   "cell_type": "markdown",
   "metadata": {},
   "source": [
    "## Baye's Theorem Function\n",
    "\n",
    "To start, write a function `bayes()` which takes in the probability of A, the probability of B, and the probability of B given A. From this, the function should then return the conditional probability of A, given that B is true."
   ]
  },
  {
   "cell_type": "code",
   "execution_count": 1,
   "metadata": {},
   "outputs": [],
   "source": [
    "def bayes(P_a, P_b, P_b_given_a):\n",
    "    P_a_given_b=(P_b_given_a*P_a)/P_b\n",
    "    return P_a_given_b"
   ]
  },
  {
   "cell_type": "markdown",
   "metadata": {},
   "source": [
    "## Skin Cancer\n",
    "\n",
    "After a physical exam, a doctor observes a blemish on a client's arm. The doctor is concerned that the blemish could be cancerous, but tells the patient to be calm and that it's probably benign. Of those with skin cancer, 100% have such blemishes. However, 20% of those without skin cancer also have such blemishes. If 15% of the population has skin cancer, what's the probability that this patient has skin cancer? \n",
    "\n",
    "> Hint: Be sure to calculate the overall rate of blemishes across the entire population."
   ]
  },
  {
   "cell_type": "code",
   "execution_count": 7,
   "metadata": {},
   "outputs": [
    {
     "name": "stdout",
     "output_type": "stream",
     "text": [
      "Blemishes affect 32.0% of the population.  This patient, having a blemish, has a 4.7% chance of having skin cancer.\n"
     ]
    }
   ],
   "source": [
    "#Your code here\n",
    "p_blemish_given_cancer=1\n",
    "p_cancer=0.15\n",
    "p_no_cancer=1-p_cancer\n",
    "p_blemish_given_no_cancer=0.2\n",
    "p_blemish=p_blemish_given_cancer*p_cancer+p_blemish_given_no_cancer*p_no_cancer\n",
    "p_cancer_given_blemish=bayes(p_cancer,p_blemish,p_blemish_given_cancer)\n",
    "\n",
    "print(f\"Blemishes affect {round(p_blemish*100,1)}% of the population.  This patient, having a blemish, has a {round(p_cancer_given_blemish*10,1)}% chance of having skin cancer.\")\n"
   ]
  },
  {
   "cell_type": "markdown",
   "metadata": {},
   "source": [
    "## Children 1 \n",
    "\n",
    "A couple has two children, the older of which is a boy. What is the probability that they have two boys?\n"
   ]
  },
  {
   "cell_type": "code",
   "execution_count": 15,
   "metadata": {},
   "outputs": [
    {
     "data": {
      "text/plain": [
       "0.5"
      ]
     },
     "execution_count": 15,
     "metadata": {},
     "output_type": "execute_result"
    }
   ],
   "source": [
    "# Your solution P(2boys|older child is a boy)\n",
    "\n",
    "p_oldest_boy=0.5\n",
    "p_oldest_boy_given_2_boys=1\n",
    "p_2_boys=0.5*0.5\n",
    "\n",
    "p_2_boys_given_old_boy=bayes(p_2_boys,p_oldest_boy,p_oldest_boy_given_2_boys)\n",
    "p_2_boys_given_old_boy"
   ]
  },
  {
   "cell_type": "markdown",
   "metadata": {},
   "source": [
    "## Children  2\n",
    "\n",
    "A couple has two children, one of which is a boy. What is the probability that they have two boys?"
   ]
  },
  {
   "cell_type": "code",
   "execution_count": 17,
   "metadata": {},
   "outputs": [
    {
     "data": {
      "text/plain": [
       "0.3333333333333333"
      ]
     },
     "execution_count": 17,
     "metadata": {},
     "output_type": "execute_result"
    }
   ],
   "source": [
    "# Your solution P(2boys|1 of 2 children is a boy)\n",
    "p_1_boy_given_2_boys=1\n",
    "p_2_boys=0.5*0.5\n",
    "p_1_boy=0.75\n",
    "\n",
    "p_2_boys_given_1_boy=bayes(p_2_boys,p_1_boy,p_1_boy_given_2_boys)\n",
    "p_2_boys_given_1_boy"
   ]
  },
  {
   "cell_type": "markdown",
   "metadata": {},
   "source": [
    "## Disease Diagnosis 2\n",
    "\n",
    "A disease test is advertised as being 99% accurate \n",
    "\n",
    "* If a patient has the disease,they  will test positive 99% of the time.\n",
    "\n",
    "* If you don't have the disease, they will test negative 99% of the time. \n",
    "\n",
    "* 1% of all people have this disease \n",
    "\n",
    "If a patient tests positive, what is the probability that they actually have the disease?"
   ]
  },
  {
   "cell_type": "code",
   "execution_count": 20,
   "metadata": {},
   "outputs": [
    {
     "data": {
      "text/plain": [
       "0.5"
      ]
     },
     "execution_count": 20,
     "metadata": {},
     "output_type": "execute_result"
    }
   ],
   "source": [
    "# Your solution P(Disease | positive test)\n",
    "p_positive_given_disease= 0.99\n",
    "p_positive_given_no_disease=1-0.99\n",
    "p_disease=0.01\n",
    "p_no_disease=1-p_disease\n",
    "p_positive=p_positive_given_disease*p_disease+p_positive_given_no_disease*p_no_disease\n",
    "\n",
    "p_disease_given_positive=bayes(p_disease,p_positive,p_positive_given_disease)\n",
    "round(p_disease_given_positive,3)"
   ]
  },
  {
   "cell_type": "markdown",
   "metadata": {},
   "source": [
    "## Summary \n",
    "\n",
    "In this lab, you practiced a few simple examples of Bayesian logic and how you can add prior information to update your beliefs about the chance of events."
   ]
  }
 ],
 "metadata": {
  "kernelspec": {
   "display_name": "Python 3",
   "language": "python",
   "name": "python3"
  },
  "language_info": {
   "codemirror_mode": {
    "name": "ipython",
    "version": 3
   },
   "file_extension": ".py",
   "mimetype": "text/x-python",
   "name": "python",
   "nbconvert_exporter": "python",
   "pygments_lexer": "ipython3",
   "version": "3.7.3"
  }
 },
 "nbformat": 4,
 "nbformat_minor": 2
}
